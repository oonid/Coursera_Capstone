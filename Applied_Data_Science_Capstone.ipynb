{
  "nbformat": 4,
  "nbformat_minor": 0,
  "metadata": {
    "colab": {
      "name": "Applied_Data_Science_Capstone.ipynb",
      "provenance": [],
      "authorship_tag": "ABX9TyMkifXLnHvCMOqPF8ppmr51",
      "include_colab_link": true
    },
    "kernelspec": {
      "name": "python3",
      "display_name": "Python 3"
    }
  },
  "cells": [
    {
      "cell_type": "markdown",
      "metadata": {
        "id": "view-in-github",
        "colab_type": "text"
      },
      "source": [
        "<a href=\"https://colab.research.google.com/github/oonid/Coursera_Capstone/blob/main/Applied_Data_Science_Capstone.ipynb\" target=\"_parent\"><img src=\"https://colab.research.google.com/assets/colab-badge.svg\" alt=\"Open In Colab\"/></a>"
      ]
    },
    {
      "cell_type": "markdown",
      "metadata": {
        "id": "A5RlUu_UyBFb"
      },
      "source": [
        "# Coursera Applied Data Science Capstone\n",
        "\n",
        "This notebook mainly used for Coursera Applied Data Science Capstone by IBM.\n"
      ]
    },
    {
      "cell_type": "code",
      "metadata": {
        "id": "dXPDTiBfx14S"
      },
      "source": [
        "import pandas as pd\n",
        "import numpy as np"
      ],
      "execution_count": 1,
      "outputs": []
    },
    {
      "cell_type": "code",
      "metadata": {
        "colab": {
          "base_uri": "https://localhost:8080/"
        },
        "id": "Iu4W1S4tyYLg",
        "outputId": "3ae6b226-d26e-464c-b245-567352c32d28"
      },
      "source": [
        "print('Hello Capstone Project Course!')"
      ],
      "execution_count": 2,
      "outputs": [
        {
          "output_type": "stream",
          "text": [
            "Hello Capstone Project Course!\n"
          ],
          "name": "stdout"
        }
      ]
    }
  ]
}